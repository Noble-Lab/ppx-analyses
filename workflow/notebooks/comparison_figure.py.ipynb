{
 "cells": [
  {
   "cell_type": "markdown",
   "id": "079d2876",
   "metadata": {},
   "outputs": [],
   "source": [
    "# Compare our reproduction with the original analysis\n",
    "\n",
    "## Setup"
   ]
  },
  {
   "cell_type": "code",
   "execution_count": 2,
   "id": "b78df2fa",
   "metadata": {},
   "outputs": [],
   "source": [
    "import sys\n",
    "from pathlib import Path\n",
    "\n",
    "import numpy as np\n",
    "import pandas as pd\n",
    "import seaborn as sns\n",
    "import matplotlib.pyplot as plt\n",
    "from matplotlib import ticker\n",
    "\n",
    "# Import some utility functions:\n",
    "sys.path.append(\"bin\")\n",
    "import utils\n",
    "\n",
    "# plot styling\n",
    "sns.set(context=\"paper\", style=\"ticks\")\n",
    "\n",
    "# The search result files:\n",
    "is_new = [Path(f).parent == Path(\"../results\") for f in snakemake.input]\n",
    "new_files = [Path(f) for f, n in zip(snakemake.input, is_new) if n]\n",
    "old_files = [Path(f) for f, n in zip(snakemake.input, is_new) if not n]\n",
    "mztab_files = {\"new\": new_files, \"old\": old_files}\n",
    "\n",
    "# Parameters to define mass shifts:\n",
    "tol_mass = 0.1\n",
    "tol_mode = \"Da\""
   ]
  },
  {
   "cell_type": "markdown",
   "id": "5004f169",
   "metadata": {},
   "outputs": [],
   "source": [
    "This is a tick formatting function for our mirror plot. See: https://stackoverflow.com/questions/51086732/how-can-i-remove-the-negative-sign-from-y-tick-labels-in-matplotlib-pyplot-figur"
   ]
  },
  {
   "cell_type": "code",
   "execution_count": 3,
   "id": "4fe0d134",
   "metadata": {},
   "outputs": [],
   "source": [
    "class MirrorFormatter(ticker.ScalarFormatter):\n",
    "    def __init__(self, *args, **kwargs):\n",
    "        super().__init__(*args, **kwargs)\n",
    "    \n",
    "    def __call__(self, x, pos=None):\n",
    "        x = -x if x < 0 else x\n",
    "        return super().__call__(x, pos)"
   ]
  },
  {
   "cell_type": "markdown",
   "id": "9d3b99d4",
   "metadata": {},
   "outputs": [],
   "source": [
    "## Read SSMs"
   ]
  },
  {
   "cell_type": "code",
   "execution_count": 4,
   "id": "8230ac5a",
   "metadata": {},
   "outputs": [],
   "source": [
    "ssms = {}\n",
    "mass_shifts = {}\n",
    "for group, group_files in mztab_files.items():\n",
    "    ssms[group] = utils.read_matches(group_files)\n",
    "    mass_shifts[group] = utils.get_mass_groups(ssms[group], tol_mass, tol_mode)\n",
    "    mass_shifts[group][\"version\"] = group"
   ]
  },
  {
   "cell_type": "markdown",
   "id": "a3ae6865",
   "metadata": {},
   "outputs": [],
   "source": [
    "## Create the figure"
   ]
  },
  {
   "cell_type": "code",
   "execution_count": 45,
   "id": "ddf99331",
   "metadata": {},
   "outputs": [],
   "source": [
    "fig = plt.figure(figsize=(7, 2))\n",
    "gs = fig.add_gridspec(1, 8)\n",
    "pal = sns.color_palette()\n",
    "\n",
    "# Mirror plot of mass shifts\n",
    "new_mod = mass_shifts[\"new\"].loc[mass_shifts[\"new\"][\"mass_diff_median\"].abs() > tol_mass, :]\n",
    "old_mod = mass_shifts[\"old\"].loc[mass_shifts[\"old\"][\"mass_diff_median\"].abs() > tol_mass, :]\n",
    "\n",
    "ax1 = fig.add_subplot(gs[:5])\n",
    "ax1.axhline(0, color=\"black\")\n",
    "ax1.vlines(new_mod[\"mass_diff_median\"], 0, new_mod[\"num_psms\"], linewidth=1.2, color=pal[0])\n",
    "ax1.vlines(old_mod[\"mass_diff_median\"], 0, -old_mod[\"num_psms\"], linewidth=1.2, color=pal[1])\n",
    "ax1.set_xlim(-50, 350)\n",
    "ax1.set_ylabel(\"SSMs\")\n",
    "ax1.text(70, 35000, \"Reanalysis\\nANN-SoLo v0.3.3, GPU\", verticalalignment=\"center\")\n",
    "ax1.text(70, -35000, \"Original\\nANN-SoLo v0.1.2, CPU\",  verticalalignment=\"center\")\n",
    "ax1.set_xlabel(\"Mass Shift (Da)\")\n",
    "ax1.yaxis.set_major_formatter(MirrorFormatter())\n",
    "ax1.ticklabel_format(axis=\"y\", style=\"sci\", scilimits=(0,1), useMathText=True)\n",
    "ax1.set_title(\"A\", fontweight=\"bold\", loc=\"left\", transform=ax1.transAxes, x=-0.11)#-0.15)\n",
    "sns.despine(ax=ax1)\n",
    "\n",
    "# Most common mass shifts:\n",
    "merged = pd.merge(\n",
    "    ssms[\"new\"], \n",
    "    ssms[\"old\"], \n",
    "    on=[\"sequence\", \"charge\", \"exp_mass_to_charge\", \"calc_mass_to_charge\", \"mass_diff\"],\n",
    "    suffixes=[\"_new\", \"_old\"],\n",
    "    how=\"outer\",\n",
    ")\n",
    "\n",
    "in_new = ~pd.isna(merged[\"search_engine_score[1]_new\"])\n",
    "in_old = ~pd.isna(merged[\"search_engine_score[1]_old\"])\n",
    "num_ssms = [\n",
    "    (in_new & in_old).sum(), \n",
    "    (in_new & ~in_old).sum(),\n",
    "    (in_old & ~in_new).sum(),\n",
    "]\n",
    "\n",
    "labs = [\"Both\", \"Renanalysis\\nOnly\", \"Original\\nOnly\"]\n",
    "venn = pd.DataFrame({\"label\": labs, \"SSMs\": num_ssms})\n",
    "\n",
    "ax2 = fig.add_subplot(gs[5:])\n",
    "sns.barplot(data=venn, x=\"label\", y=\"SSMs\", color=pal[0])\n",
    "ax2.ticklabel_format(axis=\"y\", style=\"sci\", scilimits=(0,1), useMathText=True)\n",
    "ax2.set_title(\"B\", fontweight=\"bold\", loc=\"left\", transform=ax2.transAxes, x=-0.23)\n",
    "ax2.set_xlabel(\"\")\n",
    "ax2.set_ylabel(\"SSMs\")\n",
    "sns.despine(ax=ax2)\n",
    "\n",
    "plt.tight_layout()\n",
    "plt.savefig(snakemake.output[0], dpi=300, bbox_inches=\"tight\")\n",
    "plt.show()"
   ]
  }
 ],
 "metadata": {
  "kernelspec": {
   "display_name": "Python 3",
   "language": "python",
   "name": "python3"
  },
  "language_info": {
   "codemirror_mode": {
    "name": "ipython",
    "version": 3
   },
   "file_extension": ".py",
   "mimetype": "text/x-python",
   "name": "python",
   "nbconvert_exporter": "python",
   "pygments_lexer": "ipython3",
   "version": "3.9.5"
  }
 },
 "nbformat": 4,
 "nbformat_minor": 5
}
