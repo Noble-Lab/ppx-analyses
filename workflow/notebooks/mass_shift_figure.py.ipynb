{
 "cells": [
  {
   "cell_type": "markdown",
   "metadata": {},
   "outputs": [],
   "source": [
    "# Modifications Detected in the HEK293T Data\n",
    "\n",
    "This notebook creates a mass shift histogram figure.\n",
    "\n",
    "## Setup"
   ]
  },
  {
   "cell_type": "code",
   "execution_count": null,
   "metadata": {
    "tags": []
   },
   "outputs": [],
   "source": [
    "import sys\n",
    "from pathlib import Path\n",
    "\n",
    "import numpy as np\n",
    "import pandas as pd\n",
    "import matplotlib.pyplot as plt\n",
    "import seaborn as sns\n",
    "\n",
    "# Import some utility functions:\n",
    "sys.path.append(\"bin\")\n",
    "import utils\n",
    "\n",
    "# plot styling\n",
    "sns.set(context=\"paper\", style=\"ticks\")\n",
    "\n",
    "# The search result files:\n",
    "mztab_files = snakemake.input\n",
    "\n",
    "# Parameters to define mass shifts:\n",
    "tol_mass = 0.1\n",
    "tol_mode = \"Da\""
   ]
  },
  {
   "cell_type": "markdown",
   "metadata": {},
   "outputs": [],
   "source": [
    "## Parse the SSMs"
   ]
  },
  {
   "cell_type": "code",
   "execution_count": null,
   "metadata": {},
   "outputs": [],
   "source": [
    "ssms = utils.read_matches(mztab_files)\n",
    "mass_shifts = utils.get_mass_groups(ssms, tol_mass, tol_mode)"
   ]
  },
  {
   "cell_type": "markdown",
   "metadata": {},
   "outputs": [],
   "source": [
    "## Create the plot"
   ]
  },
  {
   "cell_type": "code",
   "execution_count": null,
   "metadata": {},
   "outputs": [],
   "source": [
    "fig, ax = plt.subplots(1, 1, sharey=True, figsize=(5, 2))\n",
    "mod = mass_shifts.loc[mass_shifts[\"mass_diff_median\"].abs() > tol_mass, :]\n",
    "ax.vlines(mod[\"mass_diff_median\"], 0, mod[\"num_psms\"], linewidth=1)\n",
    "ax.set_xlim(-50, 200)\n",
    "ax.set_ylim(0)\n",
    "ax.set_ylabel(\"SSMs\")\n",
    "sns.despine(ax=ax)\n",
    "\n",
    "ax.set_xlabel(\"Mass Shift (Da)\")\n",
    "plt.tight_layout()\n",
    "\n",
    "result_dir = Path(\"../results\")\n",
    "result_dir.mkdir(exist_ok=True)\n",
    "\n",
    "plt.savefig(\n",
    "    result_dir / f\"{snakemake.config['name']}-mass_shifts.png\", \n",
    "    dpi=300, \n",
    "    bbox_inches=\"tight\",\n",
    ")\n",
    "plt.show()"
   ]
  }
 ],
 "metadata": {
  "kernelspec": {
   "display_name": "Python 3",
   "language": "python",
   "name": "python3"
  },
  "language_info": {
   "codemirror_mode": {
    "name": "ipython",
    "version": 3
   },
   "file_extension": ".py",
   "mimetype": "text/x-python",
   "name": "python",
   "nbconvert_exporter": "python",
   "pygments_lexer": "ipython3",
   "version": "3.9.5"
  }
 },
 "nbformat": 4,
 "nbformat_minor": 4
}
